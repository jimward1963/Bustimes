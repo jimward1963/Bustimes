{
 "cells": [
  {
   "cell_type": "markdown",
   "metadata": {},
   "source": [
    "# Bus times project\n",
    "A basic analysis of the arrival and departure times of buses on the 401 route in Galway city.\n",
    "\n",
    "## Background\n",
    "The 401 bus route in Galway city has a reputation for being unreliable, with arrival times sometimes half an hour longer than scheduled. I have chosen this as a basic Data Analysis project to report.\n",
    "## Variables\n",
    " - The buses are scheduled to arrive at a stop every 20 minutes starting on the hour. I have chosen to represent this as a standard Normal Distribution with a standard deviation of 15 minutes or quarter of one hour.\n",
    " - Passengers at each stop are modelled to arrive according to the Poisson Distribution with an average of 5.\n",
    " - Whether the bus is old or new is modelled as a Binomial Distribution with probability of 0.5.\n",
    " - The categorical variable of the experience of the drivers as Experienced or Unexperienced."
   ]
  },
  {
   "cell_type": "markdown",
   "metadata": {},
   "source": [
    "## Some code"
   ]
  },
  {
   "cell_type": "code",
   "execution_count": 5,
   "metadata": {
    "collapsed": true
   },
   "outputs": [],
   "source": [
    "# Choose the starting point of the analysis as 1st September, 2018, with buses running every 20 minutes or 0.3 H \n",
    "# Choose a standard deviation of 15 minutes or 0.25 H\n",
    "# 100 data points are required\n",
    "\n",
    "# import the packages\n",
    "\n",
    "import pandas as pd\n",
    "import numpy as np"
   ]
  },
  {
   "cell_type": "code",
   "execution_count": 24,
   "metadata": {},
   "outputs": [],
   "source": [
    "rng = pd.date_range('1/7/2018', periods = 100, freq = '0.3H')\n"
   ]
  },
  {
   "cell_type": "code",
   "execution_count": 25,
   "metadata": {
    "scrolled": true
   },
   "outputs": [
    {
     "data": {
      "text/plain": [
       "DatetimeIndex(['2018-01-07 00:00:00', '2018-01-07 00:18:00',\n",
       "               '2018-01-07 00:36:00', '2018-01-07 00:54:00',\n",
       "               '2018-01-07 01:12:00', '2018-01-07 01:30:00',\n",
       "               '2018-01-07 01:48:00', '2018-01-07 02:06:00',\n",
       "               '2018-01-07 02:24:00', '2018-01-07 02:42:00',\n",
       "               '2018-01-07 03:00:00', '2018-01-07 03:18:00',\n",
       "               '2018-01-07 03:36:00', '2018-01-07 03:54:00',\n",
       "               '2018-01-07 04:12:00', '2018-01-07 04:30:00',\n",
       "               '2018-01-07 04:48:00', '2018-01-07 05:06:00',\n",
       "               '2018-01-07 05:24:00', '2018-01-07 05:42:00',\n",
       "               '2018-01-07 06:00:00', '2018-01-07 06:18:00',\n",
       "               '2018-01-07 06:36:00', '2018-01-07 06:54:00',\n",
       "               '2018-01-07 07:12:00', '2018-01-07 07:30:00',\n",
       "               '2018-01-07 07:48:00', '2018-01-07 08:06:00',\n",
       "               '2018-01-07 08:24:00', '2018-01-07 08:42:00',\n",
       "               '2018-01-07 09:00:00', '2018-01-07 09:18:00',\n",
       "               '2018-01-07 09:36:00', '2018-01-07 09:54:00',\n",
       "               '2018-01-07 10:12:00', '2018-01-07 10:30:00',\n",
       "               '2018-01-07 10:48:00', '2018-01-07 11:06:00',\n",
       "               '2018-01-07 11:24:00', '2018-01-07 11:42:00',\n",
       "               '2018-01-07 12:00:00', '2018-01-07 12:18:00',\n",
       "               '2018-01-07 12:36:00', '2018-01-07 12:54:00',\n",
       "               '2018-01-07 13:12:00', '2018-01-07 13:30:00',\n",
       "               '2018-01-07 13:48:00', '2018-01-07 14:06:00',\n",
       "               '2018-01-07 14:24:00', '2018-01-07 14:42:00',\n",
       "               '2018-01-07 15:00:00', '2018-01-07 15:18:00',\n",
       "               '2018-01-07 15:36:00', '2018-01-07 15:54:00',\n",
       "               '2018-01-07 16:12:00', '2018-01-07 16:30:00',\n",
       "               '2018-01-07 16:48:00', '2018-01-07 17:06:00',\n",
       "               '2018-01-07 17:24:00', '2018-01-07 17:42:00',\n",
       "               '2018-01-07 18:00:00', '2018-01-07 18:18:00',\n",
       "               '2018-01-07 18:36:00', '2018-01-07 18:54:00',\n",
       "               '2018-01-07 19:12:00', '2018-01-07 19:30:00',\n",
       "               '2018-01-07 19:48:00', '2018-01-07 20:06:00',\n",
       "               '2018-01-07 20:24:00', '2018-01-07 20:42:00',\n",
       "               '2018-01-07 21:00:00', '2018-01-07 21:18:00',\n",
       "               '2018-01-07 21:36:00', '2018-01-07 21:54:00',\n",
       "               '2018-01-07 22:12:00', '2018-01-07 22:30:00',\n",
       "               '2018-01-07 22:48:00', '2018-01-07 23:06:00',\n",
       "               '2018-01-07 23:24:00', '2018-01-07 23:42:00',\n",
       "               '2018-01-08 00:00:00', '2018-01-08 00:18:00',\n",
       "               '2018-01-08 00:36:00', '2018-01-08 00:54:00',\n",
       "               '2018-01-08 01:12:00', '2018-01-08 01:30:00',\n",
       "               '2018-01-08 01:48:00', '2018-01-08 02:06:00',\n",
       "               '2018-01-08 02:24:00', '2018-01-08 02:42:00',\n",
       "               '2018-01-08 03:00:00', '2018-01-08 03:18:00',\n",
       "               '2018-01-08 03:36:00', '2018-01-08 03:54:00',\n",
       "               '2018-01-08 04:12:00', '2018-01-08 04:30:00',\n",
       "               '2018-01-08 04:48:00', '2018-01-08 05:06:00',\n",
       "               '2018-01-08 05:24:00', '2018-01-08 05:42:00'],\n",
       "              dtype='datetime64[ns]', freq='18T')"
      ]
     },
     "execution_count": 25,
     "metadata": {},
     "output_type": "execute_result"
    }
   ],
   "source": [
    "rng"
   ]
  },
  {
   "cell_type": "markdown",
   "metadata": {},
   "source": [
    "## Table\n",
    "A table is generated showing average bus arrivals, with standard deviation of 15 minutes. Average passengers at each stop. Whether bus is old or new. A method of assigning a categorical variable of Experienced/Unexperienced driver is sought."
   ]
  },
  {
   "cell_type": "code",
   "execution_count": 30,
   "metadata": {},
   "outputs": [
    {
     "ename": "TypeError",
     "evalue": "__init__() got multiple values for argument 'index'",
     "output_type": "error",
     "traceback": [
      "\u001b[1;31m---------------------------------------------------------------------------\u001b[0m",
      "\u001b[1;31mTypeError\u001b[0m                                 Traceback (most recent call last)",
      "\u001b[1;32m<ipython-input-30-c7f468d85b13>\u001b[0m in \u001b[0;36m<module>\u001b[1;34m()\u001b[0m\n\u001b[1;32m----> 1\u001b[1;33m \u001b[0mts\u001b[0m \u001b[1;33m=\u001b[0m \u001b[0mpd\u001b[0m\u001b[1;33m.\u001b[0m\u001b[0mDataFrame\u001b[0m\u001b[1;33m(\u001b[0m\u001b[0mnp\u001b[0m\u001b[1;33m.\u001b[0m\u001b[0mrandom\u001b[0m\u001b[1;33m.\u001b[0m\u001b[0mnormal\u001b[0m\u001b[1;33m(\u001b[0m\u001b[1;36m3\u001b[0m\u001b[1;33m,\u001b[0m \u001b[1;36m0.25\u001b[0m\u001b[1;33m,\u001b[0m \u001b[0mlen\u001b[0m\u001b[1;33m(\u001b[0m\u001b[0mrng\u001b[0m\u001b[1;33m)\u001b[0m\u001b[1;33m)\u001b[0m\u001b[1;33m,\u001b[0m \u001b[0mnp\u001b[0m\u001b[1;33m.\u001b[0m\u001b[0mrandom\u001b[0m\u001b[1;33m.\u001b[0m\u001b[0mpoisson\u001b[0m\u001b[1;33m(\u001b[0m\u001b[1;36m5\u001b[0m\u001b[1;33m,\u001b[0m \u001b[0mlen\u001b[0m\u001b[1;33m(\u001b[0m\u001b[0mrng\u001b[0m\u001b[1;33m)\u001b[0m\u001b[1;33m)\u001b[0m\u001b[1;33m,\u001b[0m \u001b[0mnp\u001b[0m\u001b[1;33m.\u001b[0m\u001b[0mrandom\u001b[0m\u001b[1;33m.\u001b[0m\u001b[0mbinomial\u001b[0m\u001b[1;33m(\u001b[0m\u001b[1;36m2\u001b[0m\u001b[1;33m,\u001b[0m \u001b[1;36m0.5\u001b[0m\u001b[1;33m,\u001b[0m \u001b[0mlen\u001b[0m\u001b[1;33m(\u001b[0m\u001b[0mrng\u001b[0m\u001b[1;33m)\u001b[0m\u001b[1;33m)\u001b[0m\u001b[1;33m,\u001b[0m \u001b[0mindex\u001b[0m\u001b[1;33m=\u001b[0m\u001b[0mrng\u001b[0m\u001b[1;33m,\u001b[0m \u001b[0mcolumns\u001b[0m\u001b[1;33m=\u001b[0m\u001b[1;33m[\u001b[0m\u001b[1;34m\"Buses\"\u001b[0m\u001b[1;33m,\u001b[0m \u001b[1;34m\"Passengers\"\u001b[0m\u001b[1;33m,\u001b[0m \u001b[1;34m\"Old/New\"\u001b[0m\u001b[1;33m]\u001b[0m\u001b[1;33m)\u001b[0m\u001b[1;33m\u001b[0m\u001b[0m\n\u001b[0m",
      "\u001b[1;31mTypeError\u001b[0m: __init__() got multiple values for argument 'index'"
     ]
    }
   ],
   "source": [
    "ts = pd.DataFrame(np.random.normal(3, 0.25, len(rng)), np.random.poisson(5, len(rng)), np.random.binomial(2, 0.5, len(rng)), index=rng, columns=[\"Buses\", \"Passengers\", \"Old/New\"])"
   ]
  },
  {
   "cell_type": "code",
   "execution_count": null,
   "metadata": {
    "collapsed": true
   },
   "outputs": [],
   "source": []
  }
 ],
 "metadata": {
  "kernelspec": {
   "display_name": "Python 3",
   "language": "python",
   "name": "python3"
  },
  "language_info": {
   "codemirror_mode": {
    "name": "ipython",
    "version": 3
   },
   "file_extension": ".py",
   "mimetype": "text/x-python",
   "name": "python",
   "nbconvert_exporter": "python",
   "pygments_lexer": "ipython3",
   "version": "3.6.3"
  }
 },
 "nbformat": 4,
 "nbformat_minor": 2
}
